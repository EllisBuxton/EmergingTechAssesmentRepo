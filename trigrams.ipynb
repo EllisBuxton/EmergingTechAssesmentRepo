{
 "cells": [
  {
   "cell_type": "markdown",
   "id": "1aef2cb4-839e-4128-9ece-3c5f3f4ffb11",
   "metadata": {},
   "source": [
    "# Task 1\n",
    "Third-order letter approximation model: "
   ]
  },
  {
   "cell_type": "markdown",
   "id": "429e848e",
   "metadata": {},
   "source": [
    "Select five free English works in Plain Text UTF8 format from Project Gutenberg. Use them to create a model of the English language as follows. Remove any preamble and postamble. Remove all characters except for (ASCII) letters (uppercase and lowercase), full stops, and spaces. Make all letters uppercase.\n",
    "\n",
    "Next create a trigram model by counting the number of times each sequence of three characters (that is, each trigram) appears. You can design your own data structure for storing the results but explain your design and its rationale in your answer.\n",
    "\n",
    "For example, the sentence: It is what it is. would become IT IS WHAT IT IS. This will give a model like {'IT ': 2, 'T I': 3, ' IS': 2, 'IS ': 1, ...}."
   ]
  },
  {
   "cell_type": "markdown",
   "id": "63dc69b2",
   "metadata": {},
   "source": [
    "#### Breakdown: "
   ]
  },
  {
   "cell_type": "markdown",
   "id": "1f9bbd85",
   "metadata": {},
   "source": [
    "1. Gather 5 Plain Texts from Project Gutenberg.\n",
    "2. Remove the preamble and postamble.\n",
    "3. Remove all Characters except for letters, full stops and spaces, all letters need to be uppercase.\n",
    "\n",
    "4. Creata a Character Trigram model.\n",
    "5. Design data structure  (Hashmap/Dictionary)."
   ]
  },
  {
   "cell_type": "markdown",
   "id": "1bb649f1",
   "metadata": {},
   "source": [
    "Creating a list of selected books titles:"
   ]
  },
  {
   "cell_type": "code",
   "execution_count": 97,
   "id": "32d17f49",
   "metadata": {},
   "outputs": [],
   "source": [
    "# List of the book titles (file names)\n",
    "book_titles = [\"dracula\", \"art_of_war\", \"leviathan\", \"moby_dick\", \"metamorphosis\"]"
   ]
  },
  {
   "cell_type": "markdown",
   "id": "fa7a7637",
   "metadata": {},
   "source": [
    "This reads over each title in the book_titles list and opens and reads them, then it stores them in the books list: "
   ]
  },
  {
   "cell_type": "code",
   "execution_count": 98,
   "id": "97617eaf",
   "metadata": {},
   "outputs": [],
   "source": [
    "# Reading the contents of the specified books into a list\n",
    "books = []\n",
    "for title in book_titles:\n",
    "    file_path = f'Books/{title}.txt'  # Adjust file path as needed\n",
    "    try:\n",
    "        with open(file_path, 'r') as file:\n",
    "            books.append(file.read())\n",
    "    except FileNotFoundError:\n",
    "        print(f\"Error: The file '{file_path}' was not found.\")"
   ]
  },
  {
   "cell_type": "markdown",
   "id": "ef89f93f",
   "metadata": {},
   "source": [
    "Printing first 100 lines to check if they are actually read correctly: "
   ]
  },
  {
   "cell_type": "code",
   "execution_count": 99,
   "id": "4101286b",
   "metadata": {},
   "outputs": [
    {
     "name": "stdout",
     "output_type": "stream",
     "text": [
      "Book 1 content (first 100 characters):\n",
      "﻿The Project Gutenberg eBook of Dracula, by Bram Stoker\n",
      "\n",
      "\n",
      "\n",
      "This eBook is for the use of anyone anywh\n",
      "Book 2 content (first 100 characters):\n",
      "*** START OF THE PROJECT GUTENBERG EBOOK 132 ***\n",
      "\n",
      "\n",
      "\n",
      "\n",
      "\n",
      "\n",
      "\n",
      "\n",
      "\n",
      "Sun Tzŭ\n",
      "\n",
      "on\n",
      "\n",
      "The Art of War\n",
      "\n",
      "\n",
      "\n",
      "THE OLDEST \n",
      "Book 3 content (first 100 characters):\n",
      "﻿The Project Gutenberg eBook of Leviathan, by Thomas Hobbes\n",
      "\n",
      "\n",
      "\n",
      "This eBook is for the use of anyone a\n",
      "Book 4 content (first 100 characters):\n",
      "﻿The Project Gutenberg eBook of Moby-Dick; or The Whale, by Herman Melville\n",
      "\n",
      "\n",
      "\n",
      "This eBook is for the\n",
      "Book 5 content (first 100 characters):\n",
      "﻿The Project Gutenberg eBook of Metamorphosis, by Franz Kafka\n",
      "\n",
      "\n",
      "\n",
      "This eBook is for the use of anyone\n"
     ]
    }
   ],
   "source": [
    "# Printing the first 100 characters of each book\n",
    "for idx, book in enumerate(books, start=1):\n",
    "    print(f\"Book {idx} content (first 100 characters):\")\n",
    "    print(book[:100])\n"
   ]
  },
  {
   "cell_type": "markdown",
   "id": "727a7e59",
   "metadata": {},
   "source": [
    "Importing re:\n",
    "\n",
    "Using the re module in [The Pyhton Standard Library](https://docs.python.org/3/library/index.html)\n",
    "\n",
    "https://docs.python.org/3/library/re.html\n",
    "\n",
    "This module provides regular expression matching operations : "
   ]
  },
  {
   "cell_type": "code",
   "execution_count": 100,
   "id": "56a30a6f",
   "metadata": {},
   "outputs": [],
   "source": [
    "import re"
   ]
  },
  {
   "cell_type": "markdown",
   "id": "177d6e61",
   "metadata": {},
   "source": [
    "This function removes the pre and post amble by setting markers for when the text should start and end, it also removes extra whitespace using the re module (re.sub) :\n",
    "\n"
   ]
  },
  {
   "cell_type": "code",
   "execution_count": 101,
   "id": "06c5800b",
   "metadata": {},
   "outputs": [],
   "source": [
    "def remove_preamble_postamble(text):\n",
    "    # Remove preamble\n",
    "    start_markers = [\n",
    "        \"*** START OF THE PROJECT GUTENBERG EBOOK \",\n",
    "        \"*** START OF THIS PROJECT GUTENBERG EBOOK \"\n",
    "    ]\n",
    "    for marker in start_markers:\n",
    "        start = text.find(marker)\n",
    "        if start != -1:\n",
    "            text = text[start + len(marker):]\n",
    "            break\n",
    "    \n",
    "    # Remove postamble\n",
    "    end_markers = [\n",
    "        \"*** END OF THE PROJECT GUTENBERG EBOOK\",\n",
    "        \"*** END OF THIS PROJECT GUTENBERG EBOOK\",\n",
    "        \"End of Project Gutenberg's\"\n",
    "    ]\n",
    "    for marker in end_markers:\n",
    "        end = text.find(marker)\n",
    "        if end != -1:\n",
    "            text = text[:end]\n",
    "            break\n",
    "    \n",
    "    # Remove extra whitespace\n",
    "    text = re.sub(r'\\n{3,}', '\\n\\n', text)\n",
    "    return text.strip()"
   ]
  },
  {
   "cell_type": "markdown",
   "id": "f673c6f9",
   "metadata": {},
   "source": [
    "This clean_text() Function makes everything uppercase and removes unwanted charaters: "
   ]
  },
  {
   "cell_type": "code",
   "execution_count": 102,
   "id": "67d7a56b",
   "metadata": {},
   "outputs": [],
   "source": [
    "def clean_text(text):\n",
    "    # Keeps only ASCII letters (uppercase and lowercase), full stops, and spaces\n",
    "    cleaned = re.sub(r'[^A-Za-z. ]', '', text)  # Removes non-allowed characters\n",
    "    return cleaned.upper()  # Converts all letters to uppercase"
   ]
  },
  {
   "cell_type": "markdown",
   "id": "784c6ee0",
   "metadata": {},
   "source": [
    "Now we will print the first 100 and last 100 words to check whether we meet the requirements :"
   ]
  },
  {
   "cell_type": "code",
   "execution_count": 103,
   "id": "11479539",
   "metadata": {},
   "outputs": [
    {
     "name": "stdout",
     "output_type": "stream",
     "text": [
      "Book 1 content:\n",
      "First 100 words:\n",
      "DRACULA DRACULA BY BRAM STOKER ILLUSTRATION COLOPHON NEW YORK GROSSET DUNLAP PUBLISHERS COPYRIGHT IN THE UNITED STATES OF AMERICA ACCORDING TO ACT OF CONGRESS BY BRAM STOKER ALL RIGHTS RESERVED. PRINTED IN THE UNITED STATES AT THE COUNTRY LIFE PRESS GARDEN CITY N.Y. TO MY DEAR FRIEND HOMMYBEGCONTENTSCHAPTER I. JONATHAN HARKERS JOURNALCHAPTER II. JONATHAN HARKERS JOURNALCHAPTER III. JONATHAN HARKERS JOURNALCHAPTER IV. JONATHAN HARKERS JOURNALCHAPTER V. LETTERSLUCY AND MINACHAPTER VI. MINA MURRAYS JOURNALCHAPTER VII. CUTTING FROM THE DAILYGRAPH AUGUSTCHAPTER VIII. MINA MURRAYS JOURNALCHAPTER IX. MINA MURRAYS JOURNALCHAPTER X. MINA MURRAYS JOURNALCHAPTER XI. LUCY WESTENRAS DIARYCHAPTER XII. DR. SEWARDS DIARYCHAPTER XIII. DR.\n",
      "\n",
      "Last 100 words:\n",
      "GENERALLY ACCEPTED STANDARD OF VALUE. IT WILL PAY YOU TO LOOK ON THE OTHER SIDE OF THE WRAPPER IN CASE THE WRAPPER IS LOST WRITE TO THE PUBLISHERS FOR A COMPLETE CATALOG DETECTIVE STORIES BY J. S. FLETCHERMAY BE HAD WHEREVER BOOKS ARE SOLD. ASK FOR GROSSET DUNLAPS LISTTHE SECRET OF THE BARBICANTHE ANNEXATION SOCIETYTHE WOLVES AND THE LAMBGREEN INKTHE KING VERSUS WARGRAVETHE LOST MR. LINTHWAITETHE MILL OF MANY WINDOWSTHE HEAVENKISSED HILLTHE MIDDLE TEMPLE MURDERRAVENSDENE COURTTHE RAYNERSLADE AMALGAMATIONTHE SAFETY PINTHE SECRET WAYTHE VALLEY OF HEADSTRONG MENASK FOR COMPLETE FREE LIST OF G. D. POPULAR COPYRIGHTED FICTIONGROSSET DUNLAP PUBLISHERS NEW YORK\n",
      "\n",
      "Book 2 content:\n",
      "First 100 words:\n",
      "SUN TZONTHE ART OF WARTHE OLDEST MILITARY TREATISE IN THE WORLDTRANSLATED FROM THE CHINESE WITH INTRODUCTION AND CRITICAL NOTESBYLIONEL GILES M.A.ASSISTANT IN THE DEPARTMENT OF ORIENTAL PRINTED BOOKS AND MSS.IN THE BRITISH MUSEUMTO MY BROTHERCAPTAIN VALENTINE GILES R.G.IN THE HOPE THATA WORK YEARS OLDMAY YET CONTAIN LESSONS WORTH CONSIDERATIONBY THE SOLDIER OF TODAYTHIS TRANSLATIONIS AFFECTIONATELY DEDICATED.CONTENTS PREFACE TO THE PROJECT GUTENBERG ETEXT PREFACE BY LIONEL GILES INTRODUCTION SUN WU AND HIS BOOK THE TEXT OF SUN TZ THE COMMENTATORS APPRECIATIONS OF SUN TZ APOLOGIES FOR WAR BIBLIOGRAPHY CHAPTER I. LAYING PLANS CHAPTER II. WAGING WAR CHAPTER III. ATTACK BY STRATAGEM\n",
      "\n",
      "Last 100 words:\n",
      "ENLIGHTENED RULER AND THE WISE GENERAL WHOWILL USE THE HIGHEST INTELLIGENCE OF THE ARMY FOR PURPOSES OF SPYINGAND THEREBY THEY ACHIEVE GREAT RESULTS.TU MU CLOSES WITH A NOTE OF WARNING JUST AS WATER WHICH CARRIES ABOAT FROM BANK TO BANK MAY ALSO BE THE MEANS OF SINKING IT SORELIANCE ON SPIES WHILE PRODUCTION OF GREAT RESULTS IS OFTTIMES THECAUSE OF UTTER DESTRUCTION.SPIES ARE A MOST IMPORTANT ELEMENT IN WAR BECAUSE ON THEM DEPENDS ANARMYS ABILITY TO MOVE.CHIA LIN SAYS THAT AN ARMY WITHOUT SPIES IS LIKE A MAN WITHOUT EARS OREYES. AIDS TO SCOUTING P. . MARSHAL TURENNE P. .\n",
      "\n",
      "Book 3 content:\n",
      "First 100 words:\n",
      "LEVIATHAN LEVIATHANBY THOMAS HOBBESLEVIATHAN OR THE MATTER FORME POWER OF A COMMONWEALTHECCLESIASTICAL AND CIVILLTHOMAS HOBBES OF MALMESBURYPRINTED FOR ANDREW CROOKE AT THE GREEN DRAGON IN ST. PAULS CHURCHYARD.TRANSCRIBERS NOTES ON THE ETEXTTHIS ETEXT WAS PREPARED FROM THE PELICAN CLASSICS EDITION OF LEVIATHANWHICH IN TURN WAS PREPARED FROM THE FIRST EDITION. I HAVE TRIED TOFOLLOW AS CLOSELY AS POSSIBLE THE ORIGINAL AND TO GIVE THE FLAVOUR OFTHE TEXT THAT HOBBES HIMSELF PROOFREAD BUT THE FOLLOWING DIFFERENCESWERE UNAVOIDABLE.HOBBES USED CAPITALS AND ITALICS VERY EXTENSIVELY FOR EMPHASIS FORPROPER NAMES FOR QUOTATIONS AND SOMETIMES IT SEEMS JUST BECAUSE.THE ORIGINAL HAS VERY EXTENSIVE MARGIN NOTES\n",
      "\n",
      "Last 100 words:\n",
      "UNDER ASHAVING AN ANGRY ASPECT FROM THE DISSOLVERS OF AN OLD GOVERNMENT ANDSEEING BUT THE BACKS OF THEM THAT ERECT A NEW YET I CANNOT THINKIT WILL BE CONDEMNED AT THIS TIME EITHER BY THE PUBLIQUE JUDGE OFDOCTRINE OR BY ANY THAT DESIRES THE CONTINUANCE OF PUBLIQUE PEACE. ANDIN THIS HOPE I RETURN TO MY INTERRUPTED SPECULATION OF BODIES NATURALLWHEREIN IF GOD GIVE ME HEALTH TO FINISH IT I HOPE THE NOVELTY WILLAS MUCH PLEASE AS IN THE DOCTRINE OF THIS ARTIFICIALL BODY IT USETH TOOFFEND. FOR SUCH TRUTH AS OPPOSETH NO MAN PROFIT NOR PLEASURE IS TOALL MEN WELCOME.FINIS\n",
      "\n",
      "Book 4 content:\n",
      "First 100 words:\n",
      "MOBYDICK OR THE WHALE MOBYDICKOR THE WHALE.BY HERMAN MELVILLECONTENTSETYMOLOGY.EXTRACTS SUPPLIED BY A SUBSUBLIBRARIAN.CHAPTER . LOOMINGS.CHAPTER . THE CARPETBAG.CHAPTER . THE SPOUTERINN.CHAPTER . THE COUNTERPANE.CHAPTER . BREAKFAST.CHAPTER . THE STREET.CHAPTER . THE CHAPEL.CHAPTER . THE PULPIT.CHAPTER . THE SERMON.CHAPTER . A BOSOM FRIEND.CHAPTER . NIGHTGOWN.CHAPTER . BIOGRAPHICAL.CHAPTER . WHEELBARROW.CHAPTER . NANTUCKET.CHAPTER . CHOWDER.CHAPTER . THE SHIP.CHAPTER . THE RAMADAN.CHAPTER . HIS MARK.CHAPTER . THE PROPHET.CHAPTER . ALL ASTIR.CHAPTER . GOING ABOARD.CHAPTER . MERRY CHRISTMAS.CHAPTER . THE LEE SHORE.CHAPTER . THE ADVOCATE.CHAPTER . POSTSCRIPT.CHAPTER . KNIGHTS AND SQUIRES.CHAPTER . KNIGHTS AND SQUIRES.CHAPTER . AHAB.CHAPTER . ENTER AHAB TO HIM STUBB.CHAPTER . THE\n",
      "\n",
      "Last 100 words:\n",
      "UPWARD BURST AND NOW LIBERATED BYREASON OF ITS CUNNING SPRING AND OWING TO ITS GREAT BUOYANCY RISINGWITH GREAT FORCE THE COFFIN LIFEBUOY SHOT LENGTHWISE FROM THE SEAFELL OVER AND FLOATED BY MY SIDE. BUOYED UP BY THAT COFFIN FOR ALMOSTONE WHOLE DAY AND NIGHT I FLOATED ON A SOFT AND DIRGELIKE MAIN. THEUNHARMING SHARKS THEY GLIDED BY AS IF WITH PADLOCKS ON THEIR MOUTHSTHE SAVAGE SEAHAWKS SAILED WITH SHEATHED BEAKS. ON THE SECOND DAY ASAIL DREW NEAR NEARER AND PICKED ME UP AT LAST. IT WAS THEDEVIOUSCRUISING RACHEL THAT IN HER RETRACING SEARCH AFTER HER MISSINGCHILDREN ONLY FOUND ANOTHER ORPHAN.\n",
      "\n",
      "Book 5 content:\n",
      "First 100 words:\n",
      "METAMORPHOSIS METAMORPHOSISBY FRANZ KAFKATRANSLATED BY DAVID WYLLIEIONE MORNING WHEN GREGOR SAMSA WOKE FROM TROUBLED DREAMS HE FOUNDHIMSELF TRANSFORMED IN HIS BED INTO A HORRIBLE VERMIN. HE LAY ON HISARMOURLIKE BACK AND IF HE LIFTED HIS HEAD A LITTLE HE COULD SEE HISBROWN BELLY SLIGHTLY DOMED AND DIVIDED BY ARCHES INTO STIFF SECTIONS.THE BEDDING WAS HARDLY ABLE TO COVER IT AND SEEMED READY TO SLIDE OFFANY MOMENT. HIS MANY LEGS PITIFULLY THIN COMPARED WITH THE SIZE OF THEREST OF HIM WAVED ABOUT HELPLESSLY AS HE LOOKED.WHATS HAPPENED TO ME HE THOUGHT. IT WASNT A DREAM. HIS ROOM APROPER HUMAN ROOM ALTHOUGH\n",
      "\n",
      "Last 100 words:\n",
      "GRETEWAS BECOMING LIVELIER. WITH ALL THE WORRY THEY HAD BEEN HAVING OF LATEHER CHEEKS HAD BECOME PALE BUT WHILE THEY WERE TALKING MR. AND MRS.SAMSA WERE STRUCK ALMOST SIMULTANEOUSLY WITH THE THOUGHT OF HOW THEIRDAUGHTER WAS BLOSSOMING INTO A WELL BUILT AND BEAUTIFUL YOUNG LADY.THEY BECAME QUIETER. JUST FROM EACH OTHERS GLANCE AND ALMOST WITHOUTKNOWING IT THEY AGREED THAT IT WOULD SOON BE TIME TO FIND A GOOD MANFOR HER. AND AS IF IN CONFIRMATION OF THEIR NEW DREAMS AND GOODINTENTIONS AS SOON AS THEY REACHED THEIR DESTINATION GRETE WAS THEFIRST TO GET UP AND STRETCH OUT HER YOUNG BODY.\n",
      "\n"
     ]
    }
   ],
   "source": [
    "# Printing the first and last 100 words of each book after removing preamble and postamble\n",
    "for idx, book in enumerate(books, start=1):\n",
    "    print(f\"Book {idx} content:\")\n",
    "    \n",
    "    # Clean the book content by removing preambles and postambles\n",
    "    cleaned_book = remove_preamble_postamble(book)\n",
    "    \n",
    "    # Further clean the book by removing unwanted characters and converting to uppercase\n",
    "    cleaned_book = clean_text(cleaned_book)\n",
    "    \n",
    "    # Get the first 100 words\n",
    "    first_100_words = ' '.join(cleaned_book.split()[:100])\n",
    "    \n",
    "    # Get the last 100 words\n",
    "    last_100_words = ' '.join(cleaned_book.split()[-100:])\n",
    "    \n",
    "    # Print the first and last 100 words\n",
    "    print(f\"First 100 words:\\n{first_100_words}\\n\")\n",
    "    print(f\"Last 100 words:\\n{last_100_words}\\n\")"
   ]
  }
 ],
 "metadata": {
  "kernelspec": {
   "display_name": "base",
   "language": "python",
   "name": "python3"
  },
  "language_info": {
   "codemirror_mode": {
    "name": "ipython",
    "version": 3
   },
   "file_extension": ".py",
   "mimetype": "text/x-python",
   "name": "python",
   "nbconvert_exporter": "python",
   "pygments_lexer": "ipython3",
   "version": "3.12.4"
  }
 },
 "nbformat": 4,
 "nbformat_minor": 5
}
