{
 "cells": [
  {
   "cell_type": "markdown",
   "id": "1aef2cb4-839e-4128-9ece-3c5f3f4ffb11",
   "metadata": {},
   "source": [
    "# Task 1\n",
    "Third-order letter approximation model: "
   ]
  },
  {
   "cell_type": "markdown",
   "id": "429e848e",
   "metadata": {},
   "source": [
    "Select five free English works in Plain Text UTF8 format from Project Gutenberg. Use them to create a model of the English language as follows. Remove any preamble and postamble. Remove all characters except for (ASCII) letters (uppercase and lowercase), full stops, and spaces. Make all letters uppercase.\n",
    "\n",
    "Next create a trigram model by counting the number of times each sequence of three characters (that is, each trigram) appears. You can design your own data structure for storing the results but explain your design and its rationale in your answer.\n",
    "\n",
    "For example, the sentence: It is what it is. would become IT IS WHAT IT IS. This will give a model like {'IT ': 2, 'T I': 3, ' IS': 2, 'IS ': 1, ...}."
   ]
  },
  {
   "cell_type": "markdown",
   "id": "63dc69b2",
   "metadata": {},
   "source": [
    "#### Breakdown: "
   ]
  },
  {
   "cell_type": "markdown",
   "id": "1f9bbd85",
   "metadata": {},
   "source": [
    "1. Gather 5 Plain Texts from Project Gutenberg.\n",
    "2. Remove the preamble and postamble.\n",
    "3. Remove all Characters except for letters, full stops and spaces, all letters need to be uppercase.\n",
    "\n",
    "4. Creata a Character Trigram model.\n",
    "5. Design data structure  (Hashmap/Dictionary)."
   ]
  }
 ],
 "metadata": {
  "kernelspec": {
   "display_name": "base",
   "language": "python",
   "name": "python3"
  },
  "language_info": {
   "codemirror_mode": {
    "name": "ipython",
    "version": 3
   },
   "file_extension": ".py",
   "mimetype": "text/x-python",
   "name": "python",
   "nbconvert_exporter": "python",
   "pygments_lexer": "ipython3",
   "version": "3.12.4"
  }
 },
 "nbformat": 4,
 "nbformat_minor": 5
}
