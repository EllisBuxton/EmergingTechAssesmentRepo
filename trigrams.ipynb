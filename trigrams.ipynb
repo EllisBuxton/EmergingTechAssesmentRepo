{
 "cells": [
  {
   "cell_type": "markdown",
   "id": "1aef2cb4-839e-4128-9ece-3c5f3f4ffb11",
   "metadata": {},
   "source": [
    "# Task 1\n",
    "Third-order letter approximation model: "
   ]
  },
  {
   "cell_type": "markdown",
   "id": "429e848e",
   "metadata": {},
   "source": [
    "Select five free English works in Plain Text UTF8 format from Project Gutenberg. Use them to create a model of the English language as follows. Remove any preamble and postamble. Remove all characters except for (ASCII) letters (uppercase and lowercase), full stops, and spaces. Make all letters uppercase.\n",
    "\n",
    "Next create a trigram model by counting the number of times each sequence of three characters (that is, each trigram) appears. You can design your own data structure for storing the results but explain your design and its rationale in your answer.\n",
    "\n",
    "For example, the sentence: It is what it is. would become IT IS WHAT IT IS. This will give a model like {'IT ': 2, 'T I': 3, ' IS': 2, 'IS ': 1, ...}."
   ]
  },
  {
   "cell_type": "markdown",
   "id": "63dc69b2",
   "metadata": {},
   "source": [
    "#### Breakdown: "
   ]
  },
  {
   "cell_type": "markdown",
   "id": "1f9bbd85",
   "metadata": {},
   "source": [
    "1. Gather 5 Plain Texts from Project Gutenberg.\n",
    "2. Remove the preamble and postamble.\n",
    "3. Remove all Characters except for letters, full stops and spaces, all letters need to be uppercase.\n",
    "\n",
    "4. Creata a Character Trigram model.\n",
    "5. Design data structure  (Hashmap/Dictionary)."
   ]
  },
  {
   "cell_type": "markdown",
   "id": "1bb649f1",
   "metadata": {},
   "source": [
    "Creating a list of selected books titles:"
   ]
  },
  {
   "cell_type": "code",
   "execution_count": 25,
   "id": "32d17f49",
   "metadata": {},
   "outputs": [],
   "source": [
    "# List of the book titles (file names)\n",
    "book_titles = [\"dracula\", \"art_of_war\", \"leviathan\", \"moby_dick\", \"metamorphosis\"]"
   ]
  },
  {
   "cell_type": "markdown",
   "id": "fa7a7637",
   "metadata": {},
   "source": [
    "This reads over each title in the book_titles list and opens and reads them, then it stores them in the books list: "
   ]
  },
  {
   "cell_type": "code",
   "execution_count": 26,
   "id": "97617eaf",
   "metadata": {},
   "outputs": [],
   "source": [
    "# Reading the contents of the specified books into a list\n",
    "books = []\n",
    "for title in book_titles:\n",
    "    file_path = f'Books/{title}.txt'  # Adjust file path as needed\n",
    "    try:\n",
    "        with open(file_path, 'r') as file:\n",
    "            books.append(file.read())\n",
    "    except FileNotFoundError:\n",
    "        print(f\"Error: The file '{file_path}' was not found.\")"
   ]
  },
  {
   "cell_type": "markdown",
   "id": "ef89f93f",
   "metadata": {},
   "source": [
    "Printing first 100 lines to check if they are actually read correctly: "
   ]
  },
  {
   "cell_type": "code",
   "execution_count": 27,
   "id": "33d62ed7",
   "metadata": {},
   "outputs": [
    {
     "name": "stdout",
     "output_type": "stream",
     "text": [
      "Book 1 content (first 100 characters):\n",
      "﻿The Project Gutenberg eBook of Dracula, by Bram Stoker\n",
      "\n",
      "\n",
      "\n",
      "This eBook is for the use of anyone anywh\n",
      "Book 2 content (first 100 characters):\n",
      "*** START OF THE PROJECT GUTENBERG EBOOK 132 ***\n",
      "\n",
      "\n",
      "\n",
      "\n",
      "\n",
      "\n",
      "\n",
      "\n",
      "\n",
      "Sun Tzŭ\n",
      "\n",
      "on\n",
      "\n",
      "The Art of War\n",
      "\n",
      "\n",
      "\n",
      "THE OLDEST \n",
      "Book 3 content (first 100 characters):\n",
      "﻿The Project Gutenberg eBook of Leviathan, by Thomas Hobbes\n",
      "\n",
      "\n",
      "\n",
      "This eBook is for the use of anyone a\n",
      "Book 4 content (first 100 characters):\n",
      "﻿The Project Gutenberg eBook of Moby-Dick; or The Whale, by Herman Melville\n",
      "\n",
      "\n",
      "\n",
      "This eBook is for the\n",
      "Book 5 content (first 100 characters):\n",
      "﻿The Project Gutenberg eBook of Metamorphosis, by Franz Kafka\n",
      "\n",
      "\n",
      "\n",
      "This eBook is for the use of anyone\n"
     ]
    }
   ],
   "source": [
    "# Printing the first 100 characters of each book\n",
    "for idx, book in enumerate(books, start=1):\n",
    "    print(f\"Book {idx} content (first 100 characters):\")\n",
    "    print(book[:100])\n"
   ]
  }
 ],
 "metadata": {
  "kernelspec": {
   "display_name": "base",
   "language": "python",
   "name": "python3"
  },
  "language_info": {
   "codemirror_mode": {
    "name": "ipython",
    "version": 3
   },
   "file_extension": ".py",
   "mimetype": "text/x-python",
   "name": "python",
   "nbconvert_exporter": "python",
   "pygments_lexer": "ipython3",
   "version": "3.12.4"
  }
 },
 "nbformat": 4,
 "nbformat_minor": 5
}
